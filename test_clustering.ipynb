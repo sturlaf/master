{
 "cells": [
  {
   "cell_type": "code",
   "execution_count": 3,
   "id": "7da5a3d4",
   "metadata": {},
   "outputs": [],
   "source": [
    "import pandas as pd\n",
    "import numpy as np\n",
    "import os"
   ]
  },
  {
   "cell_type": "code",
   "execution_count": 2,
   "id": "1139c5a9",
   "metadata": {},
   "outputs": [
    {
     "name": "stdout",
     "output_type": "stream",
     "text": [
      "   cluster_id  cluster_size  \\\n",
      "0          27          2559   \n",
      "5          51          1825   \n",
      "2          34          1229   \n",
      "3          43          2259   \n",
      "6          54          1150   \n",
      "\n",
      "                                     cluster_members  longest_bar  \\\n",
      "0  [6, 18, 82, 99, 171, 173, 206, 239, 243, 291, ...     0.518033   \n",
      "5  [0, 80, 89, 121, 132, 238, 311, 315, 344, 360,...     0.425290   \n",
      "2  [45, 111, 119, 267, 325, 332, 345, 358, 373, 3...     0.420798   \n",
      "3  [23, 54, 95, 150, 165, 186, 226, 272, 285, 312...     0.418871   \n",
      "6  [40, 86, 219, 227, 229, 256, 297, 392, 474, 51...     0.390562   \n",
      "\n",
      "                                 Top 10 longest bars  \n",
      "0  [0.2722848653793335, 0.273185133934021, 0.2850...  \n",
      "5  [0.24410247802734375, 0.25846201181411743, 0.2...  \n",
      "2  [0.2557773292064667, 0.2619004249572754, 0.264...  \n",
      "3  [0.2965419888496399, 0.29668188095092773, 0.32...  \n",
      "6  [0.2688259184360504, 0.28615137934684753, 0.29...  \n"
     ]
    }
   ],
   "source": [
    "df = pd.read_pickle(\"data/clusters/inception4b.pkl\")\n",
    "print(df.head())"
   ]
  },
  {
   "cell_type": "code",
   "execution_count": 21,
   "id": "5eba05a1",
   "metadata": {},
   "outputs": [],
   "source": [
    "def read_head():\n",
    "    layers = os.listdir(\"data/clusters/\")\n",
    "    for layer in layers:\n",
    "        print(layer.split(\".\")[0])\n",
    "        df = pd.read_pickle(f\"data/clusters/{layer}\")[\n",
    "            [\"cluster_size\", \"longest_bar\", \"Top 10 longest bars\"]\n",
    "        ]\n",
    "        print(df.head())\n",
    "        print(df.shape[0])"
   ]
  },
  {
   "cell_type": "code",
   "execution_count": 22,
   "id": "9769d064",
   "metadata": {},
   "outputs": [
    {
     "name": "stdout",
     "output_type": "stream",
     "text": [
      "inception3b\n",
      "    cluster_size  longest_bar  \\\n",
      "8           2128     0.494247   \n",
      "1           2637     0.475944   \n",
      "4            979     0.469791   \n",
      "0           1460     0.467704   \n",
      "14          1167     0.463761   \n",
      "\n",
      "                                  Top 10 longest bars  \n",
      "8   [0.33755773305892944, 0.3448399305343628, 0.35...  \n",
      "1   [0.3003733456134796, 0.30069106817245483, 0.30...  \n",
      "4   [0.2614439129829407, 0.27987203001976013, 0.28...  \n",
      "0   [0.27508729696273804, 0.27886348962783813, 0.2...  \n",
      "14  [0.2747883200645447, 0.27525973320007324, 0.28...  \n",
      "17\n",
      "inception4d\n",
      "    cluster_size  longest_bar  \\\n",
      "4           1165     0.726381   \n",
      "11          1554     0.600018   \n",
      "3           1085     0.565040   \n",
      "8           1231     0.513637   \n",
      "9           1576     0.499528   \n",
      "\n",
      "                                  Top 10 longest bars  \n",
      "4   [0.24646812677383423, 0.2525796890258789, 0.25...  \n",
      "11  [0.3093956708908081, 0.32361727952957153, 0.32...  \n",
      "3   [0.266026109457016, 0.2715827226638794, 0.2832...  \n",
      "8   [0.31049609184265137, 0.31113746762275696, 0.3...  \n",
      "9   [0.3097953200340271, 0.3125888407230377, 0.315...  \n",
      "15\n",
      "inception5a\n",
      "Empty DataFrame\n",
      "Columns: [cluster_size, longest_bar, Top 10 longest bars]\n",
      "Index: []\n",
      "0\n",
      "inception4e\n",
      "Empty DataFrame\n",
      "Columns: [cluster_size, longest_bar, Top 10 longest bars]\n",
      "Index: []\n",
      "0\n",
      "inception5b\n",
      "Empty DataFrame\n",
      "Columns: [cluster_size, longest_bar, Top 10 longest bars]\n",
      "Index: []\n",
      "0\n",
      "inception4b\n",
      "   cluster_size  longest_bar  \\\n",
      "0          2559     0.518033   \n",
      "5          1825     0.425290   \n",
      "2          1229     0.420798   \n",
      "3          2259     0.418871   \n",
      "6          1150     0.390562   \n",
      "\n",
      "                                 Top 10 longest bars  \n",
      "0  [0.2722848653793335, 0.273185133934021, 0.2850...  \n",
      "5  [0.24410247802734375, 0.25846201181411743, 0.2...  \n",
      "2  [0.2557773292064667, 0.2619004249572754, 0.264...  \n",
      "3  [0.2965419888496399, 0.29668188095092773, 0.32...  \n",
      "6  [0.2688259184360504, 0.28615137934684753, 0.29...  \n",
      "10\n",
      "inception4c\n",
      "    cluster_size  longest_bar  \\\n",
      "3           2710     0.570997   \n",
      "5           1239     0.521212   \n",
      "10          1578     0.493192   \n",
      "9           1339     0.465607   \n",
      "12          1592     0.440754   \n",
      "\n",
      "                                  Top 10 longest bars  \n",
      "3   [0.2873145639896393, 0.2919982075691223, 0.295...  \n",
      "5   [0.22960439324378967, 0.24291738867759705, 0.2...  \n",
      "10  [0.2705751061439514, 0.29363709688186646, 0.31...  \n",
      "9   [0.2901334762573242, 0.29069793224334717, 0.29...  \n",
      "12  [0.2541179656982422, 0.25600525736808777, 0.25...  \n",
      "19\n",
      "inception4a\n",
      "   cluster_size  longest_bar  \\\n",
      "1          1652     0.520240   \n",
      "5          2030     0.498964   \n",
      "8          1228     0.484247   \n",
      "2          1261     0.459279   \n",
      "4          1288     0.433563   \n",
      "\n",
      "                                 Top 10 longest bars  \n",
      "1  [0.2608886957168579, 0.26514679193496704, 0.26...  \n",
      "5  [0.3263583779335022, 0.326369971036911, 0.3550...  \n",
      "8  [0.28978002071380615, 0.29674193263053894, 0.3...  \n",
      "2  [0.23895207047462463, 0.24441242218017578, 0.2...  \n",
      "4  [0.30892932415008545, 0.3137546479701996, 0.33...  \n",
      "14\n"
     ]
    }
   ],
   "source": [
    "read_head()"
   ]
  },
  {
   "cell_type": "code",
   "execution_count": null,
   "id": "ac06830b",
   "metadata": {},
   "outputs": [],
   "source": []
  }
 ],
 "metadata": {
  "kernelspec": {
   "display_name": "act",
   "language": "python",
   "name": "act"
  },
  "language_info": {
   "codemirror_mode": {
    "name": "ipython",
    "version": 3
   },
   "file_extension": ".py",
   "mimetype": "text/x-python",
   "name": "python",
   "nbconvert_exporter": "python",
   "pygments_lexer": "ipython3",
   "version": "3.9.10"
  }
 },
 "nbformat": 4,
 "nbformat_minor": 5
}
